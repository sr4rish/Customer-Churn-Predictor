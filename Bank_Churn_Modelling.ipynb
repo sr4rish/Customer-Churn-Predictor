{
  "nbformat": 4,
  "nbformat_minor": 0,
  "metadata": {
    "colab": {
      "name": "Bank_Churn_Modelling.ipynb",
      "provenance": [],
      "collapsed_sections": [],
      "mount_file_id": "1WEUkOGtWoFx0L3fMrO1YKws0N0QyELkr",
      "authorship_tag": "ABX9TyPXOneQAXkOtOTFi/I+ghj+",
      "include_colab_link": true
    },
    "kernelspec": {
      "name": "python3",
      "display_name": "Python 3"
    }
  },
  "cells": [
    {
      "cell_type": "markdown",
      "metadata": {
        "id": "view-in-github",
        "colab_type": "text"
      },
      "source": [
        "<a href=\"https://colab.research.google.com/github/sr4rish/Customer-Churn-Predictor/blob/master/Bank_Churn_Modelling.ipynb\" target=\"_parent\"><img src=\"https://colab.research.google.com/assets/colab-badge.svg\" alt=\"Open In Colab\"/></a>"
      ]
    },
    {
      "cell_type": "code",
      "metadata": {
        "id": "GB-rHMqWH7Ry",
        "colab_type": "code",
        "colab": {}
      },
      "source": [
        "%tensorflow_version 2.x\n",
        "import keras\n",
        "import tensorflow as tf\n",
        "import os\n",
        "import numpy as np\n",
        "import matplotlib.pyplot as plt\n",
        "import pandas as pd"
      ],
      "execution_count": null,
      "outputs": []
    },
    {
      "cell_type": "code",
      "metadata": {
        "id": "28Q3zRoQIpOZ",
        "colab_type": "code",
        "colab": {
          "base_uri": "https://localhost:8080/",
          "height": 374
        },
        "outputId": "b1b53d66-feb6-49e1-e110-1844a7e9ba8c"
      },
      "source": [
        "# Importing the dataset\n",
        "dataset = pd.read_csv('/content/drive/My Drive/Customer Churn Modelling/Churn_Modelling.csv')\n",
        "dataset.info()"
      ],
      "execution_count": null,
      "outputs": [
        {
          "output_type": "stream",
          "text": [
            "<class 'pandas.core.frame.DataFrame'>\n",
            "RangeIndex: 10000 entries, 0 to 9999\n",
            "Data columns (total 14 columns):\n",
            " #   Column           Non-Null Count  Dtype  \n",
            "---  ------           --------------  -----  \n",
            " 0   RowNumber        10000 non-null  int64  \n",
            " 1   CustomerId       10000 non-null  int64  \n",
            " 2   Surname          10000 non-null  object \n",
            " 3   CreditScore      10000 non-null  int64  \n",
            " 4   Geography        10000 non-null  object \n",
            " 5   Gender           10000 non-null  object \n",
            " 6   Age              10000 non-null  int64  \n",
            " 7   Tenure           10000 non-null  int64  \n",
            " 8   Balance          10000 non-null  float64\n",
            " 9   NumOfProducts    10000 non-null  int64  \n",
            " 10  HasCrCard        10000 non-null  int64  \n",
            " 11  IsActiveMember   10000 non-null  int64  \n",
            " 12  EstimatedSalary  10000 non-null  float64\n",
            " 13  Exited           10000 non-null  int64  \n",
            "dtypes: float64(2), int64(9), object(3)\n",
            "memory usage: 1.1+ MB\n"
          ],
          "name": "stdout"
        }
      ]
    },
    {
      "cell_type": "code",
      "metadata": {
        "id": "O58Nw4cLJiUm",
        "colab_type": "code",
        "colab": {
          "base_uri": "https://localhost:8080/",
          "height": 204
        },
        "outputId": "a62105e5-8062-401c-a2a3-de2fd1a5253d"
      },
      "source": [
        "dataset.head()"
      ],
      "execution_count": null,
      "outputs": [
        {
          "output_type": "execute_result",
          "data": {
            "text/html": [
              "<div>\n",
              "<style scoped>\n",
              "    .dataframe tbody tr th:only-of-type {\n",
              "        vertical-align: middle;\n",
              "    }\n",
              "\n",
              "    .dataframe tbody tr th {\n",
              "        vertical-align: top;\n",
              "    }\n",
              "\n",
              "    .dataframe thead th {\n",
              "        text-align: right;\n",
              "    }\n",
              "</style>\n",
              "<table border=\"1\" class=\"dataframe\">\n",
              "  <thead>\n",
              "    <tr style=\"text-align: right;\">\n",
              "      <th></th>\n",
              "      <th>RowNumber</th>\n",
              "      <th>CustomerId</th>\n",
              "      <th>Surname</th>\n",
              "      <th>CreditScore</th>\n",
              "      <th>Geography</th>\n",
              "      <th>Gender</th>\n",
              "      <th>Age</th>\n",
              "      <th>Tenure</th>\n",
              "      <th>Balance</th>\n",
              "      <th>NumOfProducts</th>\n",
              "      <th>HasCrCard</th>\n",
              "      <th>IsActiveMember</th>\n",
              "      <th>EstimatedSalary</th>\n",
              "      <th>Exited</th>\n",
              "    </tr>\n",
              "  </thead>\n",
              "  <tbody>\n",
              "    <tr>\n",
              "      <th>0</th>\n",
              "      <td>1</td>\n",
              "      <td>15634602</td>\n",
              "      <td>Hargrave</td>\n",
              "      <td>619</td>\n",
              "      <td>France</td>\n",
              "      <td>Female</td>\n",
              "      <td>42</td>\n",
              "      <td>2</td>\n",
              "      <td>0.00</td>\n",
              "      <td>1</td>\n",
              "      <td>1</td>\n",
              "      <td>1</td>\n",
              "      <td>101348.88</td>\n",
              "      <td>1</td>\n",
              "    </tr>\n",
              "    <tr>\n",
              "      <th>1</th>\n",
              "      <td>2</td>\n",
              "      <td>15647311</td>\n",
              "      <td>Hill</td>\n",
              "      <td>608</td>\n",
              "      <td>Spain</td>\n",
              "      <td>Female</td>\n",
              "      <td>41</td>\n",
              "      <td>1</td>\n",
              "      <td>83807.86</td>\n",
              "      <td>1</td>\n",
              "      <td>0</td>\n",
              "      <td>1</td>\n",
              "      <td>112542.58</td>\n",
              "      <td>0</td>\n",
              "    </tr>\n",
              "    <tr>\n",
              "      <th>2</th>\n",
              "      <td>3</td>\n",
              "      <td>15619304</td>\n",
              "      <td>Onio</td>\n",
              "      <td>502</td>\n",
              "      <td>France</td>\n",
              "      <td>Female</td>\n",
              "      <td>42</td>\n",
              "      <td>8</td>\n",
              "      <td>159660.80</td>\n",
              "      <td>3</td>\n",
              "      <td>1</td>\n",
              "      <td>0</td>\n",
              "      <td>113931.57</td>\n",
              "      <td>1</td>\n",
              "    </tr>\n",
              "    <tr>\n",
              "      <th>3</th>\n",
              "      <td>4</td>\n",
              "      <td>15701354</td>\n",
              "      <td>Boni</td>\n",
              "      <td>699</td>\n",
              "      <td>France</td>\n",
              "      <td>Female</td>\n",
              "      <td>39</td>\n",
              "      <td>1</td>\n",
              "      <td>0.00</td>\n",
              "      <td>2</td>\n",
              "      <td>0</td>\n",
              "      <td>0</td>\n",
              "      <td>93826.63</td>\n",
              "      <td>0</td>\n",
              "    </tr>\n",
              "    <tr>\n",
              "      <th>4</th>\n",
              "      <td>5</td>\n",
              "      <td>15737888</td>\n",
              "      <td>Mitchell</td>\n",
              "      <td>850</td>\n",
              "      <td>Spain</td>\n",
              "      <td>Female</td>\n",
              "      <td>43</td>\n",
              "      <td>2</td>\n",
              "      <td>125510.82</td>\n",
              "      <td>1</td>\n",
              "      <td>1</td>\n",
              "      <td>1</td>\n",
              "      <td>79084.10</td>\n",
              "      <td>0</td>\n",
              "    </tr>\n",
              "  </tbody>\n",
              "</table>\n",
              "</div>"
            ],
            "text/plain": [
              "   RowNumber  CustomerId   Surname  ...  IsActiveMember EstimatedSalary Exited\n",
              "0          1    15634602  Hargrave  ...               1       101348.88      1\n",
              "1          2    15647311      Hill  ...               1       112542.58      0\n",
              "2          3    15619304      Onio  ...               0       113931.57      1\n",
              "3          4    15701354      Boni  ...               0        93826.63      0\n",
              "4          5    15737888  Mitchell  ...               1        79084.10      0\n",
              "\n",
              "[5 rows x 14 columns]"
            ]
          },
          "metadata": {
            "tags": []
          },
          "execution_count": 30
        }
      ]
    },
    {
      "cell_type": "code",
      "metadata": {
        "id": "dQDWejbYJcYa",
        "colab_type": "code",
        "colab": {}
      },
      "source": [
        "#Feature selection\n",
        "X = dataset.iloc[:, 3:13]\n",
        "y = dataset.iloc[:, 13]"
      ],
      "execution_count": null,
      "outputs": []
    },
    {
      "cell_type": "code",
      "metadata": {
        "id": "c7aECNhlJuOi",
        "colab_type": "code",
        "colab": {
          "base_uri": "https://localhost:8080/",
          "height": 204
        },
        "outputId": "109e0f3a-b246-4e6e-dd14-90cdb84d3a98"
      },
      "source": [
        "#One_Hot_Encoding\n",
        "X_dummies = pd.get_dummies(X, columns=['Geography', 'Gender'], drop_first=True)\n",
        "X_dummies.head()"
      ],
      "execution_count": null,
      "outputs": [
        {
          "output_type": "execute_result",
          "data": {
            "text/html": [
              "<div>\n",
              "<style scoped>\n",
              "    .dataframe tbody tr th:only-of-type {\n",
              "        vertical-align: middle;\n",
              "    }\n",
              "\n",
              "    .dataframe tbody tr th {\n",
              "        vertical-align: top;\n",
              "    }\n",
              "\n",
              "    .dataframe thead th {\n",
              "        text-align: right;\n",
              "    }\n",
              "</style>\n",
              "<table border=\"1\" class=\"dataframe\">\n",
              "  <thead>\n",
              "    <tr style=\"text-align: right;\">\n",
              "      <th></th>\n",
              "      <th>CreditScore</th>\n",
              "      <th>Age</th>\n",
              "      <th>Tenure</th>\n",
              "      <th>Balance</th>\n",
              "      <th>NumOfProducts</th>\n",
              "      <th>HasCrCard</th>\n",
              "      <th>IsActiveMember</th>\n",
              "      <th>EstimatedSalary</th>\n",
              "      <th>Geography_Germany</th>\n",
              "      <th>Geography_Spain</th>\n",
              "      <th>Gender_Male</th>\n",
              "    </tr>\n",
              "  </thead>\n",
              "  <tbody>\n",
              "    <tr>\n",
              "      <th>0</th>\n",
              "      <td>619</td>\n",
              "      <td>42</td>\n",
              "      <td>2</td>\n",
              "      <td>0.00</td>\n",
              "      <td>1</td>\n",
              "      <td>1</td>\n",
              "      <td>1</td>\n",
              "      <td>101348.88</td>\n",
              "      <td>0</td>\n",
              "      <td>0</td>\n",
              "      <td>0</td>\n",
              "    </tr>\n",
              "    <tr>\n",
              "      <th>1</th>\n",
              "      <td>608</td>\n",
              "      <td>41</td>\n",
              "      <td>1</td>\n",
              "      <td>83807.86</td>\n",
              "      <td>1</td>\n",
              "      <td>0</td>\n",
              "      <td>1</td>\n",
              "      <td>112542.58</td>\n",
              "      <td>0</td>\n",
              "      <td>1</td>\n",
              "      <td>0</td>\n",
              "    </tr>\n",
              "    <tr>\n",
              "      <th>2</th>\n",
              "      <td>502</td>\n",
              "      <td>42</td>\n",
              "      <td>8</td>\n",
              "      <td>159660.80</td>\n",
              "      <td>3</td>\n",
              "      <td>1</td>\n",
              "      <td>0</td>\n",
              "      <td>113931.57</td>\n",
              "      <td>0</td>\n",
              "      <td>0</td>\n",
              "      <td>0</td>\n",
              "    </tr>\n",
              "    <tr>\n",
              "      <th>3</th>\n",
              "      <td>699</td>\n",
              "      <td>39</td>\n",
              "      <td>1</td>\n",
              "      <td>0.00</td>\n",
              "      <td>2</td>\n",
              "      <td>0</td>\n",
              "      <td>0</td>\n",
              "      <td>93826.63</td>\n",
              "      <td>0</td>\n",
              "      <td>0</td>\n",
              "      <td>0</td>\n",
              "    </tr>\n",
              "    <tr>\n",
              "      <th>4</th>\n",
              "      <td>850</td>\n",
              "      <td>43</td>\n",
              "      <td>2</td>\n",
              "      <td>125510.82</td>\n",
              "      <td>1</td>\n",
              "      <td>1</td>\n",
              "      <td>1</td>\n",
              "      <td>79084.10</td>\n",
              "      <td>0</td>\n",
              "      <td>1</td>\n",
              "      <td>0</td>\n",
              "    </tr>\n",
              "  </tbody>\n",
              "</table>\n",
              "</div>"
            ],
            "text/plain": [
              "   CreditScore  Age  Tenure  ...  Geography_Germany  Geography_Spain  Gender_Male\n",
              "0          619   42       2  ...                  0                0            0\n",
              "1          608   41       1  ...                  0                1            0\n",
              "2          502   42       8  ...                  0                0            0\n",
              "3          699   39       1  ...                  0                0            0\n",
              "4          850   43       2  ...                  0                1            0\n",
              "\n",
              "[5 rows x 11 columns]"
            ]
          },
          "metadata": {
            "tags": []
          },
          "execution_count": 32
        }
      ]
    },
    {
      "cell_type": "code",
      "metadata": {
        "id": "zSDtUs9xKfQ2",
        "colab_type": "code",
        "colab": {}
      },
      "source": [
        "## Concatenate the Data Frames\n",
        "\n",
        "#X=pd.concat([X,geography,gender],axis=1)\n",
        "\n",
        "## Drop Unnecessary columns\n",
        "#X=X.drop(['Geography','Gender'],axis=1)"
      ],
      "execution_count": null,
      "outputs": []
    },
    {
      "cell_type": "code",
      "metadata": {
        "id": "mI8X3hFUMH2u",
        "colab_type": "code",
        "colab": {}
      },
      "source": [
        "#Feature Scaling\n",
        "from sklearn.preprocessing import StandardScaler\n",
        "scale = StandardScaler()\n",
        "X_scaled = scale.fit_transform(X_dummies)"
      ],
      "execution_count": null,
      "outputs": []
    },
    {
      "cell_type": "code",
      "metadata": {
        "id": "so_F20r7M-HV",
        "colab_type": "code",
        "colab": {}
      },
      "source": [
        "from sklearn.model_selection import train_test_split\n",
        "X_train, X_test, y_train, y_test = train_test_split(X_scaled, y, test_size=0.1)"
      ],
      "execution_count": null,
      "outputs": []
    },
    {
      "cell_type": "code",
      "metadata": {
        "id": "1wcXHaCHNDW_",
        "colab_type": "code",
        "colab": {}
      },
      "source": [
        "from tensorflow.keras import Sequential\n",
        "from tensorflow.keras.layers import Dense\n",
        "from tensorflow.keras.layers import Dropout\n",
        "from tensorflow.keras import regularizers\n",
        "from tensorflow.keras.layers import LeakyReLU,PReLU,ELU"
      ],
      "execution_count": null,
      "outputs": []
    },
    {
      "cell_type": "code",
      "metadata": {
        "id": "ErsM29BLO1jT",
        "colab_type": "code",
        "colab": {
          "base_uri": "https://localhost:8080/",
          "height": 1000
        },
        "outputId": "f4c5f3d4-bf60-4748-a796-c0f8a3e45414"
      },
      "source": [
        "classifier = Sequential()\n",
        "\n",
        "#first hidden layer with input\n",
        "classifier.add(Dense(units = 50, kernel_initializer = 'he_uniform', activation = 'relu', input_dim = 11, kernel_regularizer = regularizers.l2(l = 0.001)))\n",
        "\n",
        "#second hidden layer\n",
        "classifier.add(Dense(units = 50, kernel_initializer = 'he_uniform', activation = 'relu', kernel_regularizer = regularizers.l2(l = 0.001)))\n",
        "\n",
        "#output layer\n",
        "classifier.add(Dense(units = 1, kernel_initializer = 'glorot_uniform', activation = 'sigmoid'))\n",
        "\n",
        "#compling ANN\n",
        "classifier.compile(optimizer='adam', loss='binary_crossentropy', metrics=['accuracy'])\n",
        "\n",
        "#fitting classifier on dataset\n",
        "model_history = classifier.fit(X_train, y_train, batch_size=10, epochs=100, validation_split=0.10, shuffle=True)"
      ],
      "execution_count": null,
      "outputs": [
        {
          "output_type": "stream",
          "text": [
            "Epoch 1/100\n",
            "810/810 [==============================] - 1s 2ms/step - loss: 0.5963 - accuracy: 0.8194 - val_loss: 0.5405 - val_accuracy: 0.8456\n",
            "Epoch 2/100\n",
            "810/810 [==============================] - 1s 1ms/step - loss: 0.5006 - accuracy: 0.8509 - val_loss: 0.4988 - val_accuracy: 0.8500\n",
            "Epoch 3/100\n",
            "810/810 [==============================] - 1s 1ms/step - loss: 0.4616 - accuracy: 0.8573 - val_loss: 0.4757 - val_accuracy: 0.8600\n",
            "Epoch 4/100\n",
            "810/810 [==============================] - 1s 1ms/step - loss: 0.4366 - accuracy: 0.8570 - val_loss: 0.4556 - val_accuracy: 0.8511\n",
            "Epoch 5/100\n",
            "810/810 [==============================] - 1s 1ms/step - loss: 0.4180 - accuracy: 0.8617 - val_loss: 0.4446 - val_accuracy: 0.8478\n",
            "Epoch 6/100\n",
            "810/810 [==============================] - 1s 1ms/step - loss: 0.4036 - accuracy: 0.8615 - val_loss: 0.4262 - val_accuracy: 0.8544\n",
            "Epoch 7/100\n",
            "810/810 [==============================] - 1s 1ms/step - loss: 0.3933 - accuracy: 0.8615 - val_loss: 0.4168 - val_accuracy: 0.8522\n",
            "Epoch 8/100\n",
            "810/810 [==============================] - 1s 1ms/step - loss: 0.3848 - accuracy: 0.8611 - val_loss: 0.4123 - val_accuracy: 0.8556\n",
            "Epoch 9/100\n",
            "810/810 [==============================] - 1s 1ms/step - loss: 0.3782 - accuracy: 0.8617 - val_loss: 0.4034 - val_accuracy: 0.8489\n",
            "Epoch 10/100\n",
            "810/810 [==============================] - 1s 2ms/step - loss: 0.3724 - accuracy: 0.8640 - val_loss: 0.3945 - val_accuracy: 0.8578\n",
            "Epoch 11/100\n",
            "810/810 [==============================] - 1s 2ms/step - loss: 0.3682 - accuracy: 0.8630 - val_loss: 0.3957 - val_accuracy: 0.8589\n",
            "Epoch 12/100\n",
            "810/810 [==============================] - 1s 2ms/step - loss: 0.3652 - accuracy: 0.8652 - val_loss: 0.3896 - val_accuracy: 0.8600\n",
            "Epoch 13/100\n",
            "810/810 [==============================] - 1s 2ms/step - loss: 0.3610 - accuracy: 0.8654 - val_loss: 0.3883 - val_accuracy: 0.8544\n",
            "Epoch 14/100\n",
            "810/810 [==============================] - 1s 2ms/step - loss: 0.3582 - accuracy: 0.8632 - val_loss: 0.3826 - val_accuracy: 0.8600\n",
            "Epoch 15/100\n",
            "810/810 [==============================] - 1s 1ms/step - loss: 0.3549 - accuracy: 0.8648 - val_loss: 0.3902 - val_accuracy: 0.8578\n",
            "Epoch 16/100\n",
            "810/810 [==============================] - 1s 1ms/step - loss: 0.3531 - accuracy: 0.8659 - val_loss: 0.3822 - val_accuracy: 0.8556\n",
            "Epoch 17/100\n",
            "810/810 [==============================] - 1s 1ms/step - loss: 0.3526 - accuracy: 0.8644 - val_loss: 0.3771 - val_accuracy: 0.8544\n",
            "Epoch 18/100\n",
            "810/810 [==============================] - 1s 1ms/step - loss: 0.3502 - accuracy: 0.8684 - val_loss: 0.3818 - val_accuracy: 0.8622\n",
            "Epoch 19/100\n",
            "810/810 [==============================] - 1s 1ms/step - loss: 0.3491 - accuracy: 0.8632 - val_loss: 0.3736 - val_accuracy: 0.8567\n",
            "Epoch 20/100\n",
            "810/810 [==============================] - 1s 1ms/step - loss: 0.3474 - accuracy: 0.8695 - val_loss: 0.3846 - val_accuracy: 0.8500\n",
            "Epoch 21/100\n",
            "810/810 [==============================] - 1s 1ms/step - loss: 0.3465 - accuracy: 0.8646 - val_loss: 0.3780 - val_accuracy: 0.8578\n",
            "Epoch 22/100\n",
            "810/810 [==============================] - 1s 1ms/step - loss: 0.3463 - accuracy: 0.8667 - val_loss: 0.3758 - val_accuracy: 0.8589\n",
            "Epoch 23/100\n",
            "810/810 [==============================] - 1s 1ms/step - loss: 0.3447 - accuracy: 0.8669 - val_loss: 0.3808 - val_accuracy: 0.8589\n",
            "Epoch 24/100\n",
            "810/810 [==============================] - 1s 1ms/step - loss: 0.3441 - accuracy: 0.8654 - val_loss: 0.3754 - val_accuracy: 0.8500\n",
            "Epoch 25/100\n",
            "810/810 [==============================] - 1s 1ms/step - loss: 0.3430 - accuracy: 0.8667 - val_loss: 0.3764 - val_accuracy: 0.8589\n",
            "Epoch 26/100\n",
            "810/810 [==============================] - 1s 1ms/step - loss: 0.3422 - accuracy: 0.8678 - val_loss: 0.3719 - val_accuracy: 0.8567\n",
            "Epoch 27/100\n",
            "810/810 [==============================] - 1s 1ms/step - loss: 0.3414 - accuracy: 0.8681 - val_loss: 0.3740 - val_accuracy: 0.8567\n",
            "Epoch 28/100\n",
            "810/810 [==============================] - 1s 1ms/step - loss: 0.3421 - accuracy: 0.8653 - val_loss: 0.3749 - val_accuracy: 0.8589\n",
            "Epoch 29/100\n",
            "810/810 [==============================] - 1s 1ms/step - loss: 0.3404 - accuracy: 0.8657 - val_loss: 0.3765 - val_accuracy: 0.8544\n",
            "Epoch 30/100\n",
            "810/810 [==============================] - 1s 1ms/step - loss: 0.3389 - accuracy: 0.8657 - val_loss: 0.3731 - val_accuracy: 0.8556\n",
            "Epoch 31/100\n",
            "810/810 [==============================] - 1s 2ms/step - loss: 0.3394 - accuracy: 0.8684 - val_loss: 0.3719 - val_accuracy: 0.8500\n",
            "Epoch 32/100\n",
            "810/810 [==============================] - 1s 2ms/step - loss: 0.3393 - accuracy: 0.8665 - val_loss: 0.3676 - val_accuracy: 0.8622\n",
            "Epoch 33/100\n",
            "810/810 [==============================] - 1s 2ms/step - loss: 0.3391 - accuracy: 0.8678 - val_loss: 0.3718 - val_accuracy: 0.8589\n",
            "Epoch 34/100\n",
            "810/810 [==============================] - 1s 2ms/step - loss: 0.3375 - accuracy: 0.8689 - val_loss: 0.3678 - val_accuracy: 0.8511\n",
            "Epoch 35/100\n",
            "810/810 [==============================] - 1s 2ms/step - loss: 0.3374 - accuracy: 0.8668 - val_loss: 0.3737 - val_accuracy: 0.8600\n",
            "Epoch 36/100\n",
            "810/810 [==============================] - 1s 2ms/step - loss: 0.3377 - accuracy: 0.8677 - val_loss: 0.3705 - val_accuracy: 0.8578\n",
            "Epoch 37/100\n",
            "810/810 [==============================] - 1s 2ms/step - loss: 0.3357 - accuracy: 0.8690 - val_loss: 0.3705 - val_accuracy: 0.8600\n",
            "Epoch 38/100\n",
            "810/810 [==============================] - 1s 2ms/step - loss: 0.3367 - accuracy: 0.8686 - val_loss: 0.3727 - val_accuracy: 0.8622\n",
            "Epoch 39/100\n",
            "810/810 [==============================] - 1s 2ms/step - loss: 0.3357 - accuracy: 0.8684 - val_loss: 0.3721 - val_accuracy: 0.8522\n",
            "Epoch 40/100\n",
            "810/810 [==============================] - 1s 1ms/step - loss: 0.3358 - accuracy: 0.8677 - val_loss: 0.3704 - val_accuracy: 0.8511\n",
            "Epoch 41/100\n",
            "810/810 [==============================] - 1s 1ms/step - loss: 0.3356 - accuracy: 0.8681 - val_loss: 0.3672 - val_accuracy: 0.8611\n",
            "Epoch 42/100\n",
            "810/810 [==============================] - 1s 1ms/step - loss: 0.3344 - accuracy: 0.8717 - val_loss: 0.3745 - val_accuracy: 0.8600\n",
            "Epoch 43/100\n",
            "810/810 [==============================] - 1s 1ms/step - loss: 0.3348 - accuracy: 0.8668 - val_loss: 0.3718 - val_accuracy: 0.8556\n",
            "Epoch 44/100\n",
            "810/810 [==============================] - 1s 1ms/step - loss: 0.3336 - accuracy: 0.8686 - val_loss: 0.3748 - val_accuracy: 0.8544\n",
            "Epoch 45/100\n",
            "810/810 [==============================] - 1s 1ms/step - loss: 0.3340 - accuracy: 0.8677 - val_loss: 0.3751 - val_accuracy: 0.8578\n",
            "Epoch 46/100\n",
            "810/810 [==============================] - 1s 1ms/step - loss: 0.3337 - accuracy: 0.8690 - val_loss: 0.3674 - val_accuracy: 0.8622\n",
            "Epoch 47/100\n",
            "810/810 [==============================] - 1s 1ms/step - loss: 0.3335 - accuracy: 0.8705 - val_loss: 0.3695 - val_accuracy: 0.8589\n",
            "Epoch 48/100\n",
            "810/810 [==============================] - 1s 1ms/step - loss: 0.3335 - accuracy: 0.8680 - val_loss: 0.3705 - val_accuracy: 0.8544\n",
            "Epoch 49/100\n",
            "810/810 [==============================] - 1s 1ms/step - loss: 0.3336 - accuracy: 0.8702 - val_loss: 0.3709 - val_accuracy: 0.8578\n",
            "Epoch 50/100\n",
            "810/810 [==============================] - 1s 1ms/step - loss: 0.3326 - accuracy: 0.8690 - val_loss: 0.3704 - val_accuracy: 0.8544\n",
            "Epoch 51/100\n",
            "810/810 [==============================] - 1s 1ms/step - loss: 0.3323 - accuracy: 0.8689 - val_loss: 0.3741 - val_accuracy: 0.8578\n",
            "Epoch 52/100\n",
            "810/810 [==============================] - 1s 2ms/step - loss: 0.3320 - accuracy: 0.8667 - val_loss: 0.3751 - val_accuracy: 0.8578\n",
            "Epoch 53/100\n",
            "810/810 [==============================] - 1s 1ms/step - loss: 0.3322 - accuracy: 0.8690 - val_loss: 0.3749 - val_accuracy: 0.8589\n",
            "Epoch 54/100\n",
            "810/810 [==============================] - 1s 1ms/step - loss: 0.3324 - accuracy: 0.8684 - val_loss: 0.3718 - val_accuracy: 0.8556\n",
            "Epoch 55/100\n",
            "810/810 [==============================] - 1s 2ms/step - loss: 0.3314 - accuracy: 0.8696 - val_loss: 0.3766 - val_accuracy: 0.8600\n",
            "Epoch 56/100\n",
            "810/810 [==============================] - 1s 1ms/step - loss: 0.3308 - accuracy: 0.8711 - val_loss: 0.3756 - val_accuracy: 0.8556\n",
            "Epoch 57/100\n",
            "810/810 [==============================] - 1s 1ms/step - loss: 0.3313 - accuracy: 0.8696 - val_loss: 0.3746 - val_accuracy: 0.8578\n",
            "Epoch 58/100\n",
            "810/810 [==============================] - 1s 1ms/step - loss: 0.3309 - accuracy: 0.8711 - val_loss: 0.3717 - val_accuracy: 0.8611\n",
            "Epoch 59/100\n",
            "810/810 [==============================] - 1s 1ms/step - loss: 0.3298 - accuracy: 0.8695 - val_loss: 0.3844 - val_accuracy: 0.8644\n",
            "Epoch 60/100\n",
            "810/810 [==============================] - 1s 1ms/step - loss: 0.3299 - accuracy: 0.8707 - val_loss: 0.3770 - val_accuracy: 0.8556\n",
            "Epoch 61/100\n",
            "810/810 [==============================] - 1s 1ms/step - loss: 0.3305 - accuracy: 0.8683 - val_loss: 0.3771 - val_accuracy: 0.8633\n",
            "Epoch 62/100\n",
            "810/810 [==============================] - 1s 1ms/step - loss: 0.3296 - accuracy: 0.8719 - val_loss: 0.3764 - val_accuracy: 0.8589\n",
            "Epoch 63/100\n",
            "810/810 [==============================] - 1s 1ms/step - loss: 0.3290 - accuracy: 0.8707 - val_loss: 0.3823 - val_accuracy: 0.8567\n",
            "Epoch 64/100\n",
            "810/810 [==============================] - 1s 2ms/step - loss: 0.3296 - accuracy: 0.8684 - val_loss: 0.3717 - val_accuracy: 0.8622\n",
            "Epoch 65/100\n",
            "810/810 [==============================] - 1s 1ms/step - loss: 0.3284 - accuracy: 0.8711 - val_loss: 0.3783 - val_accuracy: 0.8600\n",
            "Epoch 66/100\n",
            "810/810 [==============================] - 1s 1ms/step - loss: 0.3286 - accuracy: 0.8705 - val_loss: 0.3776 - val_accuracy: 0.8600\n",
            "Epoch 67/100\n",
            "810/810 [==============================] - 1s 1ms/step - loss: 0.3279 - accuracy: 0.8710 - val_loss: 0.3773 - val_accuracy: 0.8589\n",
            "Epoch 68/100\n",
            "810/810 [==============================] - 1s 1ms/step - loss: 0.3280 - accuracy: 0.8681 - val_loss: 0.3855 - val_accuracy: 0.8533\n",
            "Epoch 69/100\n",
            "810/810 [==============================] - 1s 1ms/step - loss: 0.3276 - accuracy: 0.8726 - val_loss: 0.3808 - val_accuracy: 0.8611\n",
            "Epoch 70/100\n",
            "810/810 [==============================] - 1s 1ms/step - loss: 0.3263 - accuracy: 0.8709 - val_loss: 0.3841 - val_accuracy: 0.8544\n",
            "Epoch 71/100\n",
            "810/810 [==============================] - 1s 1ms/step - loss: 0.3275 - accuracy: 0.8731 - val_loss: 0.3790 - val_accuracy: 0.8522\n",
            "Epoch 72/100\n",
            "810/810 [==============================] - 1s 1ms/step - loss: 0.3277 - accuracy: 0.8699 - val_loss: 0.3765 - val_accuracy: 0.8656\n",
            "Epoch 73/100\n",
            "810/810 [==============================] - 1s 1ms/step - loss: 0.3264 - accuracy: 0.8717 - val_loss: 0.3724 - val_accuracy: 0.8644\n",
            "Epoch 74/100\n",
            "810/810 [==============================] - 1s 1ms/step - loss: 0.3268 - accuracy: 0.8695 - val_loss: 0.3751 - val_accuracy: 0.8622\n",
            "Epoch 75/100\n",
            "810/810 [==============================] - 1s 1ms/step - loss: 0.3256 - accuracy: 0.8719 - val_loss: 0.3874 - val_accuracy: 0.8500\n",
            "Epoch 76/100\n",
            "810/810 [==============================] - 1s 1ms/step - loss: 0.3263 - accuracy: 0.8691 - val_loss: 0.3852 - val_accuracy: 0.8611\n",
            "Epoch 77/100\n",
            "810/810 [==============================] - 1s 1ms/step - loss: 0.3241 - accuracy: 0.8715 - val_loss: 0.3789 - val_accuracy: 0.8567\n",
            "Epoch 78/100\n",
            "810/810 [==============================] - 1s 1ms/step - loss: 0.3263 - accuracy: 0.8705 - val_loss: 0.3703 - val_accuracy: 0.8656\n",
            "Epoch 79/100\n",
            "810/810 [==============================] - 1s 1ms/step - loss: 0.3245 - accuracy: 0.8716 - val_loss: 0.3796 - val_accuracy: 0.8656\n",
            "Epoch 80/100\n",
            "810/810 [==============================] - 1s 1ms/step - loss: 0.3256 - accuracy: 0.8694 - val_loss: 0.3809 - val_accuracy: 0.8467\n",
            "Epoch 81/100\n",
            "810/810 [==============================] - 1s 1ms/step - loss: 0.3254 - accuracy: 0.8702 - val_loss: 0.3887 - val_accuracy: 0.8556\n",
            "Epoch 82/100\n",
            "810/810 [==============================] - 1s 1ms/step - loss: 0.3241 - accuracy: 0.8725 - val_loss: 0.3817 - val_accuracy: 0.8544\n",
            "Epoch 83/100\n",
            "810/810 [==============================] - 1s 1ms/step - loss: 0.3237 - accuracy: 0.8717 - val_loss: 0.3791 - val_accuracy: 0.8600\n",
            "Epoch 84/100\n",
            "810/810 [==============================] - 1s 1ms/step - loss: 0.3245 - accuracy: 0.8694 - val_loss: 0.3780 - val_accuracy: 0.8600\n",
            "Epoch 85/100\n",
            "810/810 [==============================] - 1s 1ms/step - loss: 0.3222 - accuracy: 0.8744 - val_loss: 0.3780 - val_accuracy: 0.8656\n",
            "Epoch 86/100\n",
            "810/810 [==============================] - 1s 1ms/step - loss: 0.3230 - accuracy: 0.8753 - val_loss: 0.3890 - val_accuracy: 0.8611\n",
            "Epoch 87/100\n",
            "810/810 [==============================] - 1s 1ms/step - loss: 0.3239 - accuracy: 0.8722 - val_loss: 0.3814 - val_accuracy: 0.8667\n",
            "Epoch 88/100\n",
            "810/810 [==============================] - 1s 1ms/step - loss: 0.3229 - accuracy: 0.8721 - val_loss: 0.3817 - val_accuracy: 0.8533\n",
            "Epoch 89/100\n",
            "810/810 [==============================] - 1s 1ms/step - loss: 0.3224 - accuracy: 0.8735 - val_loss: 0.3751 - val_accuracy: 0.8622\n",
            "Epoch 90/100\n",
            "810/810 [==============================] - 1s 1ms/step - loss: 0.3230 - accuracy: 0.8728 - val_loss: 0.3802 - val_accuracy: 0.8633\n",
            "Epoch 91/100\n",
            "810/810 [==============================] - 1s 1ms/step - loss: 0.3219 - accuracy: 0.8741 - val_loss: 0.3835 - val_accuracy: 0.8600\n",
            "Epoch 92/100\n",
            "810/810 [==============================] - 1s 1ms/step - loss: 0.3216 - accuracy: 0.8740 - val_loss: 0.3808 - val_accuracy: 0.8678\n",
            "Epoch 93/100\n",
            "810/810 [==============================] - 1s 1ms/step - loss: 0.3221 - accuracy: 0.8741 - val_loss: 0.3783 - val_accuracy: 0.8667\n",
            "Epoch 94/100\n",
            "810/810 [==============================] - 1s 1ms/step - loss: 0.3226 - accuracy: 0.8728 - val_loss: 0.3795 - val_accuracy: 0.8644\n",
            "Epoch 95/100\n",
            "810/810 [==============================] - 1s 1ms/step - loss: 0.3222 - accuracy: 0.8721 - val_loss: 0.3796 - val_accuracy: 0.8633\n",
            "Epoch 96/100\n",
            "810/810 [==============================] - 1s 1ms/step - loss: 0.3208 - accuracy: 0.8736 - val_loss: 0.3804 - val_accuracy: 0.8678\n",
            "Epoch 97/100\n",
            "810/810 [==============================] - 1s 1ms/step - loss: 0.3216 - accuracy: 0.8719 - val_loss: 0.3874 - val_accuracy: 0.8600\n",
            "Epoch 98/100\n",
            "810/810 [==============================] - 1s 1ms/step - loss: 0.3203 - accuracy: 0.8753 - val_loss: 0.3898 - val_accuracy: 0.8611\n",
            "Epoch 99/100\n",
            "810/810 [==============================] - 1s 1ms/step - loss: 0.3209 - accuracy: 0.8738 - val_loss: 0.3806 - val_accuracy: 0.8644\n",
            "Epoch 100/100\n",
            "810/810 [==============================] - 1s 1ms/step - loss: 0.3210 - accuracy: 0.8728 - val_loss: 0.3813 - val_accuracy: 0.8656\n"
          ],
          "name": "stdout"
        }
      ]
    },
    {
      "cell_type": "code",
      "metadata": {
        "id": "L0E0_NF_P-YL",
        "colab_type": "code",
        "colab": {
          "base_uri": "https://localhost:8080/",
          "height": 102
        },
        "outputId": "e5aa533f-df9f-4a3b-d8b8-9eeaa9eb406b"
      },
      "source": [
        "# Predicting the Test set results\n",
        "y_pred = classifier.predict(X_test)\n",
        "y_pred = (y_pred > 0.5)\n",
        "\n",
        "# Making the Confusion Matrix\n",
        "from sklearn.metrics import confusion_matrix, accuracy_score\n",
        "print('confusion_matrix:\\n',confusion_matrix(y_test, y_pred))\n",
        "print('Accuracy:\\n',accuracy_score(y_test, y_pred))"
      ],
      "execution_count": null,
      "outputs": [
        {
          "output_type": "stream",
          "text": [
            "confusion_matrix:\n",
            " [[779  26]\n",
            " [107  88]]\n",
            "Accuracy:\n",
            " 0.867\n"
          ],
          "name": "stdout"
        }
      ]
    },
    {
      "cell_type": "code",
      "metadata": {
        "id": "dQBQa0c8ZIFh",
        "colab_type": "code",
        "colab": {
          "base_uri": "https://localhost:8080/",
          "height": 312
        },
        "outputId": "6c5258e0-230a-4041-df0e-b58f33974d06"
      },
      "source": [
        "print(model_history.history.keys())\n",
        "# summarize history for accuracy\n",
        "plt.plot(model_history.history['accuracy'])\n",
        "plt.plot(model_history.history['val_accuracy'])\n",
        "plt.title('model accuracy')\n",
        "plt.ylabel('accuracy')\n",
        "plt.xlabel('epoch')\n",
        "plt.legend(['train', 'test'], loc='upper left')\n",
        "plt.show()"
      ],
      "execution_count": null,
      "outputs": [
        {
          "output_type": "stream",
          "text": [
            "dict_keys(['loss', 'accuracy', 'val_loss', 'val_accuracy'])\n"
          ],
          "name": "stdout"
        },
        {
          "output_type": "display_data",
          "data": {
            "image/png": "[encoded data removed]",
            "text/plain": [
              "<Figure size 432x288 with 1 Axes>"
            ]
          },
          "metadata": {
            "tags": [],
            "needs_background": "light"
          }
        }
      ]
    },
    {
      "cell_type": "code",
      "metadata": {
        "id": "q0frfAJFaklo",
        "colab_type": "code",
        "colab": {
          "base_uri": "https://localhost:8080/",
          "height": 295
        },
        "outputId": "62db19a9-85d3-49dc-8ce9-c499d8ca5855"
      },
      "source": [
        "# summarize history for loss\n",
        "plt.plot(model_history.history['loss'])\n",
        "plt.plot(model_history.history['val_loss'])\n",
        "plt.title('model loss')\n",
        "plt.ylabel('loss')\n",
        "plt.xlabel('epoch')\n",
        "plt.legend(['train', 'test'], loc='upper left')\n",
        "plt.show()"
      ],
      "execution_count": null,
      "outputs": [
        {
          "output_type": "display_data",
          "data": {
            "image/png": "[encoded data removed]",
            "text/plain": [
              "<Figure size 432x288 with 1 Axes>"
            ]
          },
          "metadata": {
            "tags": [],
            "needs_background": "light"
          }
        }
      ]
    }
  ]
}